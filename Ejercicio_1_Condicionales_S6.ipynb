{
  "nbformat": 4,
  "nbformat_minor": 0,
  "metadata": {
    "colab": {
      "provenance": []
    },
    "kernelspec": {
      "name": "python3",
      "display_name": "Python 3"
    },
    "language_info": {
      "name": "python"
    }
  },
  "cells": [
    {
      "cell_type": "code",
      "execution_count": null,
      "metadata": {
        "id": "qUOBqSgM618x"
      },
      "outputs": [],
      "source": []
    },
    {
      "cell_type": "markdown",
      "metadata": {
        "id": "oC_8rK9OIi6C"
      },
      "source": [
        "### Ejercicio 1\n",
        "\n",
        "\n",
        "\n"
      ]
    },
    {
      "cell_type": "markdown",
      "source": [
        "Simula el siguiente diagrama de flujo de personajes Marvel utilizando sentencias condicionales:\n",
        "\n",
        "[marvel-flowchart.png](https://)"
      ],
      "metadata": {
        "id": "af6zwnQK8nh-"
      }
    },
    {
      "cell_type": "markdown",
      "source": [],
      "metadata": {
        "id": "yq0ecIk59BhL"
      }
    },
    {
      "cell_type": "code",
      "source": [
        "# Escriba aquí su solución\n",
        "#Si introducimos:\n",
        "can_fly = True\n",
        "is_human = False\n",
        "has_mask = False\n",
        "#Debe devolver: \"Vision\"\n"
      ],
      "metadata": {
        "id": "LuG5RexM9DO4"
      },
      "execution_count": null,
      "outputs": []
    },
    {
      "cell_type": "code",
      "source": [
        "boton = input('Can fly?')\n",
        "if boton == 'Yes':\n",
        "  question = input('Is he human?')\n",
        "  if question == 'Yes':\n",
        "    ask = input('Has mask?')\n",
        "    if ask == 'Yes':\n",
        "      print('Iron Man')\n",
        "    if ask == 'No':\n",
        "      print('Capitan Marvel')\n",
        "  if question == 'No':\n",
        "    ask = input('Has mask?')\n",
        "    if ask == 'Yes':\n",
        "      print('Ronan accuser')\n",
        "    if ask == 'No':\n",
        "      print('Vision')\n",
        "if boton == 'No':\n",
        "  question = input('Is he human?')\n",
        "  if question == 'Yes':\n",
        "    ask = input('Has mask?')\n",
        "    if ask == 'Yes':\n",
        "      print('SpiderMan')\n",
        "    if ask == 'No':\n",
        "      print('Hulk')\n",
        "  if question == 'No':\n",
        "    ask = input('Has mask?')\n",
        "    if ask == 'Yes':\n",
        "      print('Blaxk Bolt')\n",
        "    if ask == 'No':\n",
        "      print('Thanos')  \n",
        "\n"
      ],
      "metadata": {
        "colab": {
          "base_uri": "https://localhost:8080/"
        },
        "id": "0C36h7AC9JCx",
        "outputId": "c08f539b-a6d5-4d20-fa36-2b911b257a2d"
      },
      "execution_count": 5,
      "outputs": [
        {
          "output_type": "stream",
          "name": "stdout",
          "text": [
            "Can fly?Yes\n",
            "Is he human?No\n",
            "Has mask?No\n",
            "Vision\n"
          ]
        }
      ]
    }
  ]
}